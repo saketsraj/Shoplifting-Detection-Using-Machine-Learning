{
 "cells": [
  {
   "cell_type": "code",
   "execution_count": null,
   "id": "31bb14df-7a72-4b6a-91a7-6821ac053136",
   "metadata": {},
   "outputs": [],
   "source": [
    "import smtplib\n",
    "from email.message import EmailMessage\n",
    "\n",
    "def send_alert_email(video_path, frame_no):\n",
    "    sender_email = \"chotu.saket.raj@gmail.com\"\n",
    "    sender_password = \"zkki umbj tdhk ayjr\"\n",
    "    receiver_email = \"saket.sraj@gmail.com\"\n",
    "\n",
    "    subject = \"Alert: Suspicious Activity Detected (Possible Shoplifting)\"\n",
    "    body = f\"\"\"\n",
    "    Suspicious activity detected in the video: {video_path}\n",
    "    Frame Number: {frame_no}\n",
    "\n",
    "    Please review and acknowledge.\n",
    "\n",
    "    Regards,\n",
    "    Shoplifting Detection System\n",
    "    \"\"\"\n",
    "\n",
    "    msg = EmailMessage()\n",
    "    msg.set_content(body)\n",
    "    msg[\"Subject\"] = subject\n",
    "    msg[\"From\"] = sender_email\n",
    "    msg[\"To\"] = receiver_email\n",
    "\n",
    "    try:\n",
    "        with smtplib.SMTP_SSL(\"smtp.gmail.com\", 465) as server:\n",
    "            server.login(sender_email, sender_password)\n",
    "            server.send_message(msg)\n",
    "        print(\"Alert email sent successfully!\")\n",
    "    except Exception as e:\n",
    "        print(\"Failed to send email:\", str(e))\n"
   ]
  }
 ],
 "metadata": {
  "kernelspec": {
   "display_name": "Python [conda env:base] *",
   "language": "python",
   "name": "conda-base-py"
  },
  "language_info": {
   "codemirror_mode": {
    "name": "ipython",
    "version": 3
   },
   "file_extension": ".py",
   "mimetype": "text/x-python",
   "name": "python",
   "nbconvert_exporter": "python",
   "pygments_lexer": "ipython3",
   "version": "3.12.7"
  }
 },
 "nbformat": 4,
 "nbformat_minor": 5
}
